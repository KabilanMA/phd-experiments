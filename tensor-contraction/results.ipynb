{
 "cells": [
  {
   "cell_type": "code",
   "execution_count": null,
   "id": "41e62e7b",
   "metadata": {
    "vscode": {
     "languageId": "plaintext"
    }
   },
   "outputs": [],
   "source": [
    "import pandas as pd\n",
    "import matplotlib.pyplot as plt\n",
    "\n",
    "# Read CSV\n",
    "data = pd.read_csv(\"results.csv\")\n",
    "\n",
    "# Plot\n",
    "plt.plot(data['dimension'], data['elapsed_time'], marker='o')\n",
    "plt.xlabel('Dimension')\n",
    "plt.ylabel('Elapsed Time (s)')\n",
    "plt.title('Dimension vs Elapsed Time')\n",
    "plt.grid(True)\n",
    "plt.show()\n"
   ]
  }
 ],
 "metadata": {
  "language_info": {
   "name": "python"
  }
 },
 "nbformat": 4,
 "nbformat_minor": 5
}
